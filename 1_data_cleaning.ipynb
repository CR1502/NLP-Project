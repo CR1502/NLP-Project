{
 "cells": [
  {
   "metadata": {
    "ExecuteTime": {
     "end_time": "2025-04-08T01:42:04.531062Z",
     "start_time": "2025-04-08T01:42:04.054789Z"
    }
   },
   "cell_type": "code",
   "source": [
    "import os\n",
    "import ssl\n",
    "\n",
    "# Set the NLTK_DATA environment variable to your provided path\n",
    "os.environ[\"NLTK_DATA\"] = \"/Users/craigroberts/Documents/Coding/NLP/MediScan_NLP_Proj/nltk_data\"\n",
    "\n",
    "# Add this directory to nltk's search path\n",
    "import nltk\n",
    "nltk.data.path.append(\"/Users/craigroberts/Documents/Coding/NLP/MediScan_NLP_Proj/nltk_data\")\n",
    "\n",
    "# Optionally, disable SSL verification to avoid certificate errors when downloading (if needed)\n",
    "try:\n",
    "    _create_unverified_https_context = ssl._create_unverified_context\n",
    "except AttributeError:\n",
    "    pass\n",
    "else:\n",
    "    ssl._create_default_https_context = _create_unverified_https_context\n",
    "\n",
    "# Import additional libraries\n",
    "import pandas as pd\n",
    "import numpy as np\n",
    "import matplotlib.pyplot as plt\n",
    "import seaborn as sns\n",
    "import html\n",
    "import re\n",
    "\n",
    "from nltk.tokenize import RegexpTokenizer\n",
    "from nltk import pos_tag\n",
    "from langdetect import detect\n",
    "\n",
    "sns.set(style=\"whitegrid\")\n",
    "\n",
    "# Download necessary NLTK resources (this should use your provided nltk_data path)\n",
    "nltk.download('averaged_perceptron_tagger_eng')\n",
    "nltk.download('stopwords')\n",
    "\n",
    "print(\"Setup complete. NLTK data path set to:\", os.environ[\"NLTK_DATA\"])"
   ],
   "id": "794e198d31024d2",
   "outputs": [
    {
     "name": "stdout",
     "output_type": "stream",
     "text": [
      "Setup complete. NLTK data path set to: /Users/craigroberts/Documents/Coding/NLP/MediScan_NLP_Proj/nltk_data\n"
     ]
    },
    {
     "name": "stderr",
     "output_type": "stream",
     "text": [
      "[nltk_data] Downloading package averaged_perceptron_tagger_eng to /Use\n",
      "[nltk_data]     rs/craigroberts/Documents/Coding/NLP/MediScan_NLP_Proj\n",
      "[nltk_data]     /nltk_data...\n",
      "[nltk_data]   Package averaged_perceptron_tagger_eng is already up-to-\n",
      "[nltk_data]       date!\n",
      "[nltk_data] Downloading package stopwords to /Users/craigroberts/Docum\n",
      "[nltk_data]     ents/Coding/NLP/MediScan_NLP_Proj/nltk_data...\n",
      "[nltk_data]   Package stopwords is already up-to-date!\n"
     ]
    }
   ],
   "execution_count": 1
  },
  {
   "metadata": {
    "ExecuteTime": {
     "end_time": "2025-04-08T01:42:05.074489Z",
     "start_time": "2025-04-08T01:42:04.596673Z"
    }
   },
   "cell_type": "code",
   "source": [
    "# Load train and test TSV files from the PUBHEALTH folder\n",
    "df_1 = pd.read_csv(\"PUBHEALTH/train.tsv\", sep=\"\\t\")\n",
    "df_2 = pd.read_csv(\"PUBHEALTH/test.tsv\", sep=\"\\t\")\n",
    "df_3 = pd.read_csv(\"PUBHEALTH/dev.tsv\", sep=\"\\t\")\n",
    "\n",
    "# Combine the DataFrames\n",
    "frames = [df_1, df_2, df_3]\n",
    "result = pd.concat(frames)"
   ],
   "id": "b0d4e980374b2811",
   "outputs": [],
   "execution_count": 2
  },
  {
   "metadata": {
    "ExecuteTime": {
     "end_time": "2025-04-08T01:42:05.079730Z",
     "start_time": "2025-04-08T01:42:05.077789Z"
    }
   },
   "cell_type": "code",
   "source": "print(\"Combined DataFrame shape:\", result.shape)",
   "id": "15eef594a1efeb20",
   "outputs": [
    {
     "name": "stdout",
     "output_type": "stream",
     "text": [
      "Combined DataFrame shape: (12288, 10)\n"
     ]
    }
   ],
   "execution_count": 3
  },
  {
   "metadata": {
    "ExecuteTime": {
     "end_time": "2025-04-08T01:42:05.097407Z",
     "start_time": "2025-04-08T01:42:05.091306Z"
    }
   },
   "cell_type": "code",
   "source": [
    "print(\"First 5 rows:\")\n",
    "result.head()"
   ],
   "id": "518d3200df9814fc",
   "outputs": [
    {
     "name": "stdout",
     "output_type": "stream",
     "text": [
      "First 5 rows:\n"
     ]
    },
    {
     "data": {
      "text/plain": [
       "  claim_id                                              claim  \\\n",
       "0    15661  \"The money the Clinton Foundation took from fr...   \n",
       "1     9893    Annual Mammograms May Have More False-Positives   \n",
       "2    11358  SBRT Offers Prostate Cancer Patients High Canc...   \n",
       "3    10166  Study: Vaccine for Breast, Ovarian Cancer Has ...   \n",
       "4    11276  Some appendicitis cases may not require ’emerg...   \n",
       "\n",
       "       date_published                                        explanation  \\\n",
       "0      April 26, 2015  \"Gingrich said the Clinton Foundation \"\"took m...   \n",
       "1    October 18, 2011  This article reports on the results of a study...   \n",
       "2  September 28, 2016  This news release describes five-year outcomes...   \n",
       "3    November 8, 2011  While the story does many things well, the ove...   \n",
       "4  September 20, 2010  We really don’t understand why only a handful ...   \n",
       "\n",
       "                                       fact_checkers  \\\n",
       "0                                      Katie Sanders   \n",
       "1                                                      \n",
       "2  Mary Chris Jaklevic,Steven J. Atlas, MD, MPH,K...   \n",
       "3                                                      \n",
       "4                                                      \n",
       "\n",
       "                                           main_text  \\\n",
       "0  \"Hillary Clinton is in the political crosshair...   \n",
       "1  While the financial costs of screening mammogr...   \n",
       "2  The news release quotes lead researcher Robert...   \n",
       "3  The story does discuss costs, but the framing ...   \n",
       "4  \"Although the story didn’t cite the cost of ap...   \n",
       "\n",
       "                                             sources    label  \\\n",
       "0  https://www.wsj.com/articles/clinton-foundatio...    false   \n",
       "1                                                     mixture   \n",
       "2  https://www.healthnewsreview.org/wp-content/up...  mixture   \n",
       "3  http://clinicaltrials.gov/ct2/results?term=can...     true   \n",
       "4                                                        true   \n",
       "\n",
       "                                      subjects  Unnamed: 0  \n",
       "0  Foreign Policy, PunditFact, Newt Gingrich,          NaN  \n",
       "1               Screening,WebMD,women's health         NaN  \n",
       "2      Association/Society news release,Cancer         NaN  \n",
       "3                  Cancer,WebMD,women's health         NaN  \n",
       "4                                                      NaN  "
      ],
      "text/html": [
       "<div>\n",
       "<style scoped>\n",
       "    .dataframe tbody tr th:only-of-type {\n",
       "        vertical-align: middle;\n",
       "    }\n",
       "\n",
       "    .dataframe tbody tr th {\n",
       "        vertical-align: top;\n",
       "    }\n",
       "\n",
       "    .dataframe thead th {\n",
       "        text-align: right;\n",
       "    }\n",
       "</style>\n",
       "<table border=\"1\" class=\"dataframe\">\n",
       "  <thead>\n",
       "    <tr style=\"text-align: right;\">\n",
       "      <th></th>\n",
       "      <th>claim_id</th>\n",
       "      <th>claim</th>\n",
       "      <th>date_published</th>\n",
       "      <th>explanation</th>\n",
       "      <th>fact_checkers</th>\n",
       "      <th>main_text</th>\n",
       "      <th>sources</th>\n",
       "      <th>label</th>\n",
       "      <th>subjects</th>\n",
       "      <th>Unnamed: 0</th>\n",
       "    </tr>\n",
       "  </thead>\n",
       "  <tbody>\n",
       "    <tr>\n",
       "      <th>0</th>\n",
       "      <td>15661</td>\n",
       "      <td>\"The money the Clinton Foundation took from fr...</td>\n",
       "      <td>April 26, 2015</td>\n",
       "      <td>\"Gingrich said the Clinton Foundation \"\"took m...</td>\n",
       "      <td>Katie Sanders</td>\n",
       "      <td>\"Hillary Clinton is in the political crosshair...</td>\n",
       "      <td>https://www.wsj.com/articles/clinton-foundatio...</td>\n",
       "      <td>false</td>\n",
       "      <td>Foreign Policy, PunditFact, Newt Gingrich,</td>\n",
       "      <td>NaN</td>\n",
       "    </tr>\n",
       "    <tr>\n",
       "      <th>1</th>\n",
       "      <td>9893</td>\n",
       "      <td>Annual Mammograms May Have More False-Positives</td>\n",
       "      <td>October 18, 2011</td>\n",
       "      <td>This article reports on the results of a study...</td>\n",
       "      <td></td>\n",
       "      <td>While the financial costs of screening mammogr...</td>\n",
       "      <td></td>\n",
       "      <td>mixture</td>\n",
       "      <td>Screening,WebMD,women's health</td>\n",
       "      <td>NaN</td>\n",
       "    </tr>\n",
       "    <tr>\n",
       "      <th>2</th>\n",
       "      <td>11358</td>\n",
       "      <td>SBRT Offers Prostate Cancer Patients High Canc...</td>\n",
       "      <td>September 28, 2016</td>\n",
       "      <td>This news release describes five-year outcomes...</td>\n",
       "      <td>Mary Chris Jaklevic,Steven J. Atlas, MD, MPH,K...</td>\n",
       "      <td>The news release quotes lead researcher Robert...</td>\n",
       "      <td>https://www.healthnewsreview.org/wp-content/up...</td>\n",
       "      <td>mixture</td>\n",
       "      <td>Association/Society news release,Cancer</td>\n",
       "      <td>NaN</td>\n",
       "    </tr>\n",
       "    <tr>\n",
       "      <th>3</th>\n",
       "      <td>10166</td>\n",
       "      <td>Study: Vaccine for Breast, Ovarian Cancer Has ...</td>\n",
       "      <td>November 8, 2011</td>\n",
       "      <td>While the story does many things well, the ove...</td>\n",
       "      <td></td>\n",
       "      <td>The story does discuss costs, but the framing ...</td>\n",
       "      <td>http://clinicaltrials.gov/ct2/results?term=can...</td>\n",
       "      <td>true</td>\n",
       "      <td>Cancer,WebMD,women's health</td>\n",
       "      <td>NaN</td>\n",
       "    </tr>\n",
       "    <tr>\n",
       "      <th>4</th>\n",
       "      <td>11276</td>\n",
       "      <td>Some appendicitis cases may not require ’emerg...</td>\n",
       "      <td>September 20, 2010</td>\n",
       "      <td>We really don’t understand why only a handful ...</td>\n",
       "      <td></td>\n",
       "      <td>\"Although the story didn’t cite the cost of ap...</td>\n",
       "      <td></td>\n",
       "      <td>true</td>\n",
       "      <td></td>\n",
       "      <td>NaN</td>\n",
       "    </tr>\n",
       "  </tbody>\n",
       "</table>\n",
       "</div>"
      ]
     },
     "execution_count": 4,
     "metadata": {},
     "output_type": "execute_result"
    }
   ],
   "execution_count": 4
  },
  {
   "metadata": {
    "ExecuteTime": {
     "end_time": "2025-04-08T01:42:05.131981Z",
     "start_time": "2025-04-08T01:42:05.126652Z"
    }
   },
   "cell_type": "code",
   "source": [
    "print(\"Summary statistics:\")\n",
    "result.describe()"
   ],
   "id": "b4cc408e25d26522",
   "outputs": [
    {
     "name": "stdout",
     "output_type": "stream",
     "text": [
      "Summary statistics:\n"
     ]
    },
    {
     "data": {
      "text/plain": [
       "       Unnamed: 0\n",
       "count   1235.0000\n",
       "mean     617.0000\n",
       "std      356.6581\n",
       "min        0.0000\n",
       "25%      308.5000\n",
       "50%      617.0000\n",
       "75%      925.5000\n",
       "max     1234.0000"
      ],
      "text/html": [
       "<div>\n",
       "<style scoped>\n",
       "    .dataframe tbody tr th:only-of-type {\n",
       "        vertical-align: middle;\n",
       "    }\n",
       "\n",
       "    .dataframe tbody tr th {\n",
       "        vertical-align: top;\n",
       "    }\n",
       "\n",
       "    .dataframe thead th {\n",
       "        text-align: right;\n",
       "    }\n",
       "</style>\n",
       "<table border=\"1\" class=\"dataframe\">\n",
       "  <thead>\n",
       "    <tr style=\"text-align: right;\">\n",
       "      <th></th>\n",
       "      <th>Unnamed: 0</th>\n",
       "    </tr>\n",
       "  </thead>\n",
       "  <tbody>\n",
       "    <tr>\n",
       "      <th>count</th>\n",
       "      <td>1235.0000</td>\n",
       "    </tr>\n",
       "    <tr>\n",
       "      <th>mean</th>\n",
       "      <td>617.0000</td>\n",
       "    </tr>\n",
       "    <tr>\n",
       "      <th>std</th>\n",
       "      <td>356.6581</td>\n",
       "    </tr>\n",
       "    <tr>\n",
       "      <th>min</th>\n",
       "      <td>0.0000</td>\n",
       "    </tr>\n",
       "    <tr>\n",
       "      <th>25%</th>\n",
       "      <td>308.5000</td>\n",
       "    </tr>\n",
       "    <tr>\n",
       "      <th>50%</th>\n",
       "      <td>617.0000</td>\n",
       "    </tr>\n",
       "    <tr>\n",
       "      <th>75%</th>\n",
       "      <td>925.5000</td>\n",
       "    </tr>\n",
       "    <tr>\n",
       "      <th>max</th>\n",
       "      <td>1234.0000</td>\n",
       "    </tr>\n",
       "  </tbody>\n",
       "</table>\n",
       "</div>"
      ]
     },
     "execution_count": 5,
     "metadata": {},
     "output_type": "execute_result"
    }
   ],
   "execution_count": 5
  },
  {
   "metadata": {
    "ExecuteTime": {
     "end_time": "2025-04-08T01:42:05.168204Z",
     "start_time": "2025-04-08T01:42:05.162278Z"
    }
   },
   "cell_type": "code",
   "source": [
    "print(\"Missing values per column:\")\n",
    "result.isna().sum()"
   ],
   "id": "1ae3982e37939cfe",
   "outputs": [
    {
     "name": "stdout",
     "output_type": "stream",
     "text": [
      "Missing values per column:\n"
     ]
    },
    {
     "data": {
      "text/plain": [
       "claim_id              0\n",
       "claim                10\n",
       "date_published     2408\n",
       "explanation          10\n",
       "fact_checkers        15\n",
       "main_text            30\n",
       "sources              33\n",
       "label                35\n",
       "subjects             37\n",
       "Unnamed: 0        11053\n",
       "dtype: int64"
      ]
     },
     "execution_count": 6,
     "metadata": {},
     "output_type": "execute_result"
    }
   ],
   "execution_count": 6
  },
  {
   "metadata": {
    "ExecuteTime": {
     "end_time": "2025-04-08T01:42:05.231809Z",
     "start_time": "2025-04-08T01:42:05.221321Z"
    }
   },
   "cell_type": "code",
   "source": [
    "# Identify indices for labels to drop: 'unproven', 'snopes', and 'mixture'\n",
    "index_unproven = result[result[\"label\"] == 'unproven'].index\n",
    "index_snopes   = result[result[\"label\"] == 'snopes'].index\n",
    "index_mixture  = result[result[\"label\"] == 'mixture'].index\n",
    "\n",
    "# Combine all indices into one index object\n",
    "indices_to_drop = index_unproven.union(index_snopes).union(index_mixture)\n",
    "\n",
    "# Drop these rows from the DataFrame\n",
    "result.drop(indices_to_drop, inplace=True)\n",
    "print(\"Shape after dropping unwanted labels:\", result.shape)"
   ],
   "id": "8362faa49031c0f7",
   "outputs": [
    {
     "name": "stdout",
     "output_type": "stream",
     "text": [
      "Shape after dropping unwanted labels: (9146, 10)\n"
     ]
    }
   ],
   "execution_count": 7
  },
  {
   "metadata": {
    "ExecuteTime": {
     "end_time": "2025-04-08T01:42:05.256951Z",
     "start_time": "2025-04-08T01:42:05.251878Z"
    }
   },
   "cell_type": "code",
   "source": [
    "# Create a DataFrame with selected columns: claim_id, claim, main_text, label\n",
    "dframe = result[[\"claim_id\", \"claim\", \"main_text\", \"label\"]].copy()\n",
    "\n",
    "# Print missing values before dropping\n",
    "print(\"Missing values before dropna:\")\n",
    "dframe.isna().sum()"
   ],
   "id": "fd3d54eceacfaeb",
   "outputs": [
    {
     "name": "stdout",
     "output_type": "stream",
     "text": [
      "Missing values before dropna:\n"
     ]
    },
    {
     "data": {
      "text/plain": [
       "claim_id      0\n",
       "claim         9\n",
       "main_text    28\n",
       "label        32\n",
       "dtype: int64"
      ]
     },
     "execution_count": 8,
     "metadata": {},
     "output_type": "execute_result"
    }
   ],
   "execution_count": 8
  },
  {
   "metadata": {
    "ExecuteTime": {
     "end_time": "2025-04-08T01:42:05.295153Z",
     "start_time": "2025-04-08T01:42:05.289110Z"
    }
   },
   "cell_type": "code",
   "source": [
    "# Drop rows with missing values\n",
    "dframe = dframe.dropna()\n",
    "\n",
    "# Replace 'false' with 0 and 'true' with 1 in the 'label' column\n",
    "dframe['label'].replace(to_replace=['false', 'true'], value=[0, 1], inplace=True)\n",
    "\n",
    "# Reset the DataFrame index\n",
    "dframe = dframe.reset_index(drop=True)"
   ],
   "id": "37497dfe0d8a7fe",
   "outputs": [
    {
     "name": "stderr",
     "output_type": "stream",
     "text": [
      "/var/folders/71/ybd134t50bl9zh8hzq85874r0000gn/T/ipykernel_53100/3777682659.py:5: FutureWarning: A value is trying to be set on a copy of a DataFrame or Series through chained assignment using an inplace method.\n",
      "The behavior will change in pandas 3.0. This inplace method will never work because the intermediate object on which we are setting values always behaves as a copy.\n",
      "\n",
      "For example, when doing 'df[col].method(value, inplace=True)', try using 'df.method({col: value}, inplace=True)' or df[col] = df[col].method(value) instead, to perform the operation inplace on the original object.\n",
      "\n",
      "\n",
      "  dframe['label'].replace(to_replace=['false', 'true'], value=[0, 1], inplace=True)\n",
      "/var/folders/71/ybd134t50bl9zh8hzq85874r0000gn/T/ipykernel_53100/3777682659.py:5: FutureWarning: Downcasting behavior in `replace` is deprecated and will be removed in a future version. To retain the old behavior, explicitly call `result.infer_objects(copy=False)`. To opt-in to the future behavior, set `pd.set_option('future.no_silent_downcasting', True)`\n",
      "  dframe['label'].replace(to_replace=['false', 'true'], value=[0, 1], inplace=True)\n"
     ]
    }
   ],
   "execution_count": 9
  },
  {
   "metadata": {
    "ExecuteTime": {
     "end_time": "2025-04-08T01:42:05.596010Z",
     "start_time": "2025-04-08T01:42:05.320199Z"
    }
   },
   "cell_type": "code",
   "source": [
    "# Optionally inspect a sample value\n",
    "print(\"Sample value (row 15, second-to-last column):\", dframe.iloc[15, -2])\n",
    "\n",
    "# Save the processed DataFrame to CSV\n",
    "dframe.to_csv(\"initial_file.csv\", index=False)"
   ],
   "id": "a83ec1a993819543",
   "outputs": [
    {
     "name": "stdout",
     "output_type": "stream",
     "text": [
      "Sample value (row 15, second-to-last column): On Thursday, the United States laid out its objectives for a post-Brexit trade deal with Britain, seeking to entirely eliminate or reduce barriers for U.S. agricultural products and streamline regulatory differences. Opponents of Brexit have argued that such a U.S. accord would open up Britain’s markets to the likes of chlorine-treated chicken and genetically modified crops, while ministers have said the government would not lower food standards to win trade deals. “You have been presented with a false choice: either stick to EU directives, or find yourselves flooded with American food of the lowest quality,” Ambassador Woody Johnson wrote in the Daily Telegraph newspaper. “Inflammatory and misleading terms like ‘chlorinated chicken’ and ‘hormone beef’ are deployed to cast American farming in the worst possible light. It is time the myths are called out for what they really are: a smear campaign from people with their own protectionist agenda.”  Johnson said American farmers were using all scientific and technological tools to help meet the challenges of a growing global population and the resulting health and environmental pressures that brought. “It is not sustainable for the whole world to follow the EU’s ‘Museum of Agriculture’ approach. We have to look to the future of farming, not just the past,” he said. Johnson said washing chicken was a “public safety no-brainer” and using growth hormones for cattle allowed more meat to be produced at a lower cost to the consumer and environment while being completely safe to eat. “The fact is that farmers in America have the same priorities as farmers in Britain”, he said. “It would be a genuine missed opportunity to buy into the idea that the EU’s traditionalist approach to agriculture is Britain’s only option for a quality and efficient agriculture sector moving forward.”   In a separate story on Saturday, the Telegraph reported that Britain would follow all EU food and farming regulations for nine months should it exit the bloc without having secured a withdrawal deal to protect British farming. The newspaper said the move sent a signal that the United Kingdom wanted to stay aligned with European and not U.S. agricultural standards.\n"
     ]
    }
   ],
   "execution_count": 10
  },
  {
   "metadata": {
    "ExecuteTime": {
     "end_time": "2025-04-08T01:42:05.871804Z",
     "start_time": "2025-04-08T01:42:05.609622Z"
    }
   },
   "cell_type": "code",
   "source": [
    "# Read the CSV back to verify\n",
    "df = pd.read_csv(\"initial_file.csv\")\n",
    "print(\"Missing values in loaded CSV:\")\n",
    "df.isna().sum()"
   ],
   "id": "a1720b55c7ac8e02",
   "outputs": [
    {
     "name": "stdout",
     "output_type": "stream",
     "text": [
      "Missing values in loaded CSV:\n"
     ]
    },
    {
     "data": {
      "text/plain": [
       "claim_id     0\n",
       "claim        0\n",
       "main_text    0\n",
       "label        0\n",
       "dtype: int64"
      ]
     },
     "execution_count": 11,
     "metadata": {},
     "output_type": "execute_result"
    }
   ],
   "execution_count": 11
  },
  {
   "metadata": {
    "ExecuteTime": {
     "end_time": "2025-04-08T01:42:05.887779Z",
     "start_time": "2025-04-08T01:42:05.886050Z"
    }
   },
   "cell_type": "code",
   "source": [
    "# Define text cleaning functions\n",
    "def simplify_text(text):\n",
    "    return html.unescape(\" \".join(text.split()))\n",
    "\n",
    "def lower_sentences(text):\n",
    "    return text.lower()"
   ],
   "id": "939995cf95b92d01",
   "outputs": [],
   "execution_count": 12
  },
  {
   "metadata": {
    "ExecuteTime": {
     "end_time": "2025-04-08T01:42:05.921772Z",
     "start_time": "2025-04-08T01:42:05.909265Z"
    }
   },
   "cell_type": "code",
   "source": [
    "# Apply the cleaning functions to create a new processed column 'claim-p'\n",
    "df[\"claim-p\"] = df[\"claim\"].map(lower_sentences)\n",
    "df[\"claim-p\"] = df[\"claim-p\"].map(simplify_text)\n",
    "\n",
    "print(\"Sample cleaned text:\")\n",
    "df[\"claim-p\"].head()"
   ],
   "id": "ce2abac2ca249c77",
   "outputs": [
    {
     "name": "stdout",
     "output_type": "stream",
     "text": [
      "Sample cleaned text:\n"
     ]
    },
    {
     "data": {
      "text/plain": [
       "0    study: vaccine for breast, ovarian cancer has ...\n",
       "1    angioplasty through the wrist backed by new study\n",
       "2    u.s. says results encouraging for healthcare d...\n",
       "3    opossums kill thousands of ticks each week, in...\n",
       "4    democrats hoping to flip house not just trash-...\n",
       "Name: claim-p, dtype: object"
      ]
     },
     "execution_count": 13,
     "metadata": {},
     "output_type": "execute_result"
    }
   ],
   "execution_count": 13
  },
  {
   "metadata": {
    "ExecuteTime": {
     "end_time": "2025-04-08T01:42:05.954477Z",
     "start_time": "2025-04-08T01:42:05.952082Z"
    }
   },
   "cell_type": "code",
   "source": [
    "# Define a function to detect language\n",
    "def detect_comment_lang(comment):\n",
    "    # Remove mentions, URLs, etc.\n",
    "    comment = ' '.join(re.sub(\"(@[A-Za-z0-9_\\-]+ )|(https?:\\/\\/.* )|(www\\..* )\", \" \", comment).split())\n",
    "    try:\n",
    "        lang = detect(comment)\n",
    "    except Exception as e:\n",
    "        lang = \"\"\n",
    "    return lang"
   ],
   "id": "1ccb805897e6fc09",
   "outputs": [
    {
     "name": "stderr",
     "output_type": "stream",
     "text": [
      "<>:4: SyntaxWarning: invalid escape sequence '\\-'\n",
      "<>:4: SyntaxWarning: invalid escape sequence '\\-'\n",
      "/var/folders/71/ybd134t50bl9zh8hzq85874r0000gn/T/ipykernel_53100/1905626170.py:4: SyntaxWarning: invalid escape sequence '\\-'\n",
      "  comment = ' '.join(re.sub(\"(@[A-Za-z0-9_\\-]+ )|(https?:\\/\\/.* )|(www\\..* )\", \" \", comment).split())\n"
     ]
    }
   ],
   "execution_count": 14
  },
  {
   "metadata": {
    "ExecuteTime": {
     "end_time": "2025-04-08T01:42:17.375919Z",
     "start_time": "2025-04-08T01:42:05.988049Z"
    }
   },
   "cell_type": "code",
   "source": [
    "# Apply language detection on cleaned claim text\n",
    "df[\"lang\"] = df[\"claim-p\"].map(detect_comment_lang)\n",
    "\n",
    "# Print language counts\n",
    "print(\"Detected language counts:\")\n",
    "df[\"lang\"].value_counts()"
   ],
   "id": "fdb52bb4abe729d4",
   "outputs": [
    {
     "name": "stdout",
     "output_type": "stream",
     "text": [
      "Detected language counts:\n"
     ]
    },
    {
     "data": {
      "text/plain": [
       "lang\n",
       "en    8897\n",
       "fr      47\n",
       "ca      36\n",
       "it      26\n",
       "af      22\n",
       "da      17\n",
       "ro      12\n",
       "nl      12\n",
       "es       9\n",
       "no       6\n",
       "tl       4\n",
       "id       4\n",
       "sv       4\n",
       "cy       3\n",
       "sl       2\n",
       "lt       2\n",
       "lv       2\n",
       "hr       2\n",
       "de       2\n",
       "sq       2\n",
       "et       2\n",
       "fi       1\n",
       "Name: count, dtype: int64"
      ]
     },
     "execution_count": 15,
     "metadata": {},
     "output_type": "execute_result"
    }
   ],
   "execution_count": 15
  },
  {
   "metadata": {
    "ExecuteTime": {
     "end_time": "2025-04-08T01:42:17.667867Z",
     "start_time": "2025-04-08T01:42:17.390124Z"
    }
   },
   "cell_type": "code",
   "source": [
    "# Filter to keep only English entries\n",
    "df = df[df[\"lang\"] == \"en\"]\n",
    "df.index = pd.RangeIndex(0, len(df.index))\n",
    "df = df.drop([\"lang\"], axis=1)\n",
    "\n",
    "# Drop \"Unnamed: 0\" column if it exists\n",
    "if \"Unnamed: 0\" in df.columns:\n",
    "    df = df.drop([\"Unnamed: 0\"], axis=1)\n",
    "\n",
    "print(\"Shape after filtering for English:\", df.shape)\n",
    "df.to_csv(\"cleaned_file.csv\", index=False)\n"
   ],
   "id": "ded7963e041c71d9",
   "outputs": [
    {
     "name": "stdout",
     "output_type": "stream",
     "text": [
      "Shape after filtering for English: (8897, 5)\n"
     ]
    }
   ],
   "execution_count": 16
  },
  {
   "metadata": {
    "ExecuteTime": {
     "end_time": "2025-04-08T01:42:17.682479Z",
     "start_time": "2025-04-08T01:42:17.680380Z"
    }
   },
   "cell_type": "code",
   "source": [
    "# Initialize a RegexpTokenizer to tokenize words\n",
    "tokenizer = RegexpTokenizer(r'\\w+')\n",
    "\n",
    "# Define a function to tokenize and POS tag text\n",
    "def tokenize_postag(text):\n",
    "    tokenized = tokenizer.tokenize(text)\n",
    "    postagged = pos_tag(tokenized)\n",
    "    return postagged"
   ],
   "id": "23137ffedfbeaaa8",
   "outputs": [],
   "execution_count": 17
  },
  {
   "metadata": {
    "ExecuteTime": {
     "end_time": "2025-04-08T01:42:19.485805Z",
     "start_time": "2025-04-08T01:42:17.700606Z"
    }
   },
   "cell_type": "code",
   "source": [
    "# Apply tokenization and POS tagging to the processed text\n",
    "df[\"postagged\"] = df[\"claim-p\"].apply(tokenize_postag)\n",
    "\n",
    "print(\"Sample of POS-tagged text:\")\n",
    "df[\"postagged\"].head()"
   ],
   "id": "565fba165cb7b53d",
   "outputs": [
    {
     "name": "stdout",
     "output_type": "stream",
     "text": [
      "Sample of POS-tagged text:\n"
     ]
    },
    {
     "data": {
      "text/plain": [
       "0    [(study, NN), (vaccine, NN), (for, IN), (breas...\n",
       "1    [(angioplasty, NN), (through, IN), (the, DT), ...\n",
       "2    [(u, JJ), (s, NN), (says, VBZ), (results, NNS)...\n",
       "3    [(opossums, NNS), (kill, VB), (thousands, NNS)...\n",
       "4    [(democrats, NNS), (hoping, VBG), (to, TO), (f...\n",
       "Name: postagged, dtype: object"
      ]
     },
     "execution_count": 18,
     "metadata": {},
     "output_type": "execute_result"
    }
   ],
   "execution_count": 18
  },
  {
   "metadata": {
    "ExecuteTime": {
     "end_time": "2025-04-08T01:42:19.800280Z",
     "start_time": "2025-04-08T01:42:19.501772Z"
    }
   },
   "cell_type": "code",
   "source": [
    "df.to_csv(\"final_cleaned_file.csv\", index=False)\n",
    "print(\"Final cleaned file saved as 'final_cleaned_file.csv'\")"
   ],
   "id": "10ade603ab0ce976",
   "outputs": [
    {
     "name": "stdout",
     "output_type": "stream",
     "text": [
      "Final cleaned file saved as 'final_cleaned_file.csv'\n"
     ]
    }
   ],
   "execution_count": 19
  },
  {
   "metadata": {
    "ExecuteTime": {
     "end_time": "2025-04-08T01:42:19.816917Z",
     "start_time": "2025-04-08T01:42:19.815366Z"
    }
   },
   "cell_type": "code",
   "source": "",
   "id": "68e0bf68cec3521",
   "outputs": [],
   "execution_count": null
  }
 ],
 "metadata": {
  "kernelspec": {
   "display_name": "Python 3",
   "language": "python",
   "name": "python3"
  },
  "language_info": {
   "codemirror_mode": {
    "name": "ipython",
    "version": 2
   },
   "file_extension": ".py",
   "mimetype": "text/x-python",
   "name": "python",
   "nbconvert_exporter": "python",
   "pygments_lexer": "ipython2",
   "version": "2.7.6"
  }
 },
 "nbformat": 4,
 "nbformat_minor": 5
}
