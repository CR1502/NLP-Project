{
 "cells": [
  {
   "cell_type": "code",
   "id": "initial_id",
   "metadata": {
    "collapsed": true,
    "ExecuteTime": {
     "end_time": "2025-04-07T20:29:35.011679Z",
     "start_time": "2025-04-07T20:29:34.893092Z"
    }
   },
   "source": [
    "import os\n",
    "import pandas as pd\n",
    "import numpy as np\n",
    "import matplotlib.pyplot as plt\n",
    "import seaborn as sns\n",
    "import pickle\n",
    "\n",
    "from sklearn.feature_extraction.text import TfidfVectorizer\n",
    "from sklearn.metrics import accuracy_score, classification_report\n",
    "from sklearn.preprocessing import LabelEncoder\n",
    "from sklearn.ensemble import BaggingClassifier\n",
    "\n",
    "# Base models\n",
    "from sklearn.linear_model import LogisticRegression\n",
    "from sklearn.naive_bayes import MultinomialNB\n",
    "from sklearn.tree import DecisionTreeClassifier\n",
    "from sklearn.neighbors import KNeighborsClassifier\n",
    "from sklearn.svm import SVC\n",
    "\n",
    "sns.set(style=\"whitegrid\")"
   ],
   "outputs": [],
   "execution_count": 1
  },
  {
   "metadata": {
    "ExecuteTime": {
     "end_time": "2025-04-07T20:29:35.430921Z",
     "start_time": "2025-04-07T20:29:35.014418Z"
    }
   },
   "cell_type": "code",
   "source": [
    "# Load data (adjust paths as needed)\n",
    "train_df = pd.read_csv(\"Final_data/train_data.csv\")\n",
    "dev_df = pd.read_csv(\"Final_data/dev_data.csv\")\n",
    "test_df = pd.read_csv(\"Final_data/test_data.csv\")\n",
    "\n",
    "# Check column names (assume text is in \"claim\" and labels in \"label\")\n",
    "print(\"Train columns:\", train_df.columns)\n",
    "print(\"Dev columns:\", dev_df.columns)\n",
    "\n",
    "# For example, if labels are numeric (0 or 1) and text is in \"claim\"\n",
    "train_texts = train_df[\"claim\"].tolist()\n",
    "dev_texts = dev_df[\"claim\"].tolist()\n",
    "test_texts = test_df[\"claim\"].tolist()\n",
    "\n",
    "# If labels need encoding (if they are strings), use LabelEncoder. Otherwise, assume they're already numeric.\n",
    "if train_df[\"label\"].dtype == object:\n",
    "    label_encoder = LabelEncoder()\n",
    "    all_labels = pd.concat([train_df[\"label\"], dev_df[\"label\"], test_df[\"label\"]], axis=0)\n",
    "    label_encoder.fit(all_labels)\n",
    "    y_train = label_encoder.transform(train_df[\"label\"])\n",
    "    y_dev = label_encoder.transform(dev_df[\"label\"])\n",
    "    y_test = label_encoder.transform(test_df[\"label\"])\n",
    "else:\n",
    "    y_train = train_df[\"label\"].values\n",
    "    y_dev = dev_df[\"label\"].values\n",
    "    y_test = test_df[\"label\"].values\n",
    "\n",
    "# Initialize TF-IDF Vectorizer\n",
    "vectorizer = TfidfVectorizer(max_features=5000, ngram_range=(1,2))\n",
    "X_train = vectorizer.fit_transform(train_texts)\n",
    "X_dev = vectorizer.transform(dev_texts)\n",
    "X_test = vectorizer.transform(test_texts)\n",
    "\n",
    "# Save vectorizer for later use\n",
    "with open(\"tfidf_vectorizer.pkl\", \"wb\") as f:\n",
    "    pickle.dump(vectorizer, f)\n",
    "\n",
    "print(\"TF-IDF features extracted:\")\n",
    "print(\"Train shape:\", X_train.shape)\n",
    "print(\"Dev shape:\", X_dev.shape)\n",
    "print(\"Test shape:\", X_test.shape)"
   ],
   "id": "c46bda1677394f59",
   "outputs": [
    {
     "name": "stdout",
     "output_type": "stream",
     "text": [
      "Train columns: Index(['claim_id', 'claim', 'main_text', 'label', 'claim-p', 'postagged'], dtype='object')\n",
      "Dev columns: Index(['claim_id', 'claim', 'main_text', 'label', 'claim-p', 'postagged'], dtype='object')\n",
      "TF-IDF features extracted:\n",
      "Train shape: (5341, 5000)\n",
      "Dev shape: (2226, 5000)\n",
      "Test shape: (1336, 5000)\n"
     ]
    }
   ],
   "execution_count": 2
  },
  {
   "metadata": {
    "ExecuteTime": {
     "end_time": "2025-04-07T20:30:24.310178Z",
     "start_time": "2025-04-07T20:29:35.488306Z"
    }
   },
   "cell_type": "code",
   "source": [
    "# Define a helper function to build a bagging model\n",
    "def build_bagging_model(base_estimator, n_estimators=10, random_state=42):\n",
    "    return BaggingClassifier(estimator=base_estimator, n_estimators=n_estimators, random_state=random_state)\n",
    "\n",
    "# 1. Bagging with Logistic Regression\n",
    "logreg = LogisticRegression(max_iter=1000, random_state=42)\n",
    "bagging_logreg = build_bagging_model(logreg, n_estimators=10)\n",
    "bagging_logreg.fit(X_train, y_train)\n",
    "print(\"Bagging Logistic Regression trained!\")\n",
    "\n",
    "# 2. Bagging with Multinomial Naive Bayes\n",
    "nb = MultinomialNB()\n",
    "bagging_nb = build_bagging_model(nb, n_estimators=10)\n",
    "bagging_nb.fit(X_train, y_train)\n",
    "print(\"Bagging Naive Bayes trained!\")\n",
    "\n",
    "# 3. Bagging with Decision Tree\n",
    "dt = DecisionTreeClassifier(max_depth=5, random_state=42)\n",
    "bagging_dt = build_bagging_model(dt, n_estimators=10)\n",
    "bagging_dt.fit(X_train, y_train)\n",
    "print(\"Bagging Decision Tree trained!\")\n",
    "\n",
    "# 4. Bagging with k-Nearest Neighbors\n",
    "# knn = KNeighborsClassifier(n_neighbors=5)\n",
    "# bagging_knn = build_bagging_model(knn, n_estimators=10)\n",
    "# bagging_knn.fit(X_train, y_train)\n",
    "# print(\"Bagging k-Nearest Neighbors trained!\")\n",
    "### This was hurting performance\n",
    "\n",
    "# 5. Bagging with Support Vector Classifier (with probability estimates)\n",
    "svc = SVC(probability=True, random_state=42)\n",
    "bagging_svc = build_bagging_model(svc, n_estimators=10)\n",
    "bagging_svc.fit(X_train, y_train)\n",
    "print(\"Bagging SVC trained!\")"
   ],
   "id": "6b102d7312b73ff1",
   "outputs": [
    {
     "name": "stdout",
     "output_type": "stream",
     "text": [
      "Bagging Logistic Regression trained!\n",
      "Bagging Naive Bayes trained!\n",
      "Bagging Decision Tree trained!\n",
      "Bagging SVC trained!\n"
     ]
    }
   ],
   "execution_count": 3
  },
  {
   "metadata": {
    "ExecuteTime": {
     "end_time": "2025-04-07T20:30:24.403116Z",
     "start_time": "2025-04-07T20:30:24.398145Z"
    }
   },
   "cell_type": "code",
   "source": [
    "def evaluate_model(model, X, y, model_name):\n",
    "    y_pred = model.predict(X)\n",
    "    acc = accuracy_score(y, y_pred)\n",
    "    print(f\"{model_name} Accuracy: {acc:.4f}\")\n",
    "    print(f\"{model_name} Classification Report:\")\n",
    "    print(classification_report(y, y_pred, zero_division=1))\n",
    "    return y_pred, acc"
   ],
   "id": "71aeecf5e9422d65",
   "outputs": [],
   "execution_count": 4
  },
  {
   "metadata": {
    "ExecuteTime": {
     "end_time": "2025-04-07T20:30:24.438311Z",
     "start_time": "2025-04-07T20:30:24.410989Z"
    }
   },
   "cell_type": "code",
   "source": "pred_logreg, acc_logreg = evaluate_model(bagging_logreg, X_dev, y_dev, \"Bagging Logistic Regression\")",
   "id": "d4294aee03b41632",
   "outputs": [
    {
     "name": "stdout",
     "output_type": "stream",
     "text": [
      "Bagging Logistic Regression Accuracy: 0.7372\n",
      "Bagging Logistic Regression Classification Report:\n",
      "              precision    recall  f1-score   support\n",
      "\n",
      "           0       0.70      0.54      0.61       844\n",
      "           1       0.75      0.86      0.80      1382\n",
      "\n",
      "    accuracy                           0.74      2226\n",
      "   macro avg       0.73      0.70      0.71      2226\n",
      "weighted avg       0.73      0.74      0.73      2226\n",
      "\n"
     ]
    }
   ],
   "execution_count": 5
  },
  {
   "metadata": {
    "ExecuteTime": {
     "end_time": "2025-04-07T20:30:24.531048Z",
     "start_time": "2025-04-07T20:30:24.510510Z"
    }
   },
   "cell_type": "code",
   "source": "pred_nb, acc_nb = evaluate_model(bagging_nb, X_dev, y_dev, \"Bagging Naive Bayes\")",
   "id": "e377fac0d79418e6",
   "outputs": [
    {
     "name": "stdout",
     "output_type": "stream",
     "text": [
      "Bagging Naive Bayes Accuracy: 0.7435\n",
      "Bagging Naive Bayes Classification Report:\n",
      "              precision    recall  f1-score   support\n",
      "\n",
      "           0       0.71      0.54      0.62       844\n",
      "           1       0.76      0.87      0.81      1382\n",
      "\n",
      "    accuracy                           0.74      2226\n",
      "   macro avg       0.73      0.70      0.71      2226\n",
      "weighted avg       0.74      0.74      0.73      2226\n",
      "\n"
     ]
    }
   ],
   "execution_count": 6
  },
  {
   "metadata": {
    "ExecuteTime": {
     "end_time": "2025-04-07T20:30:24.604623Z",
     "start_time": "2025-04-07T20:30:24.592809Z"
    }
   },
   "cell_type": "code",
   "source": "pred_dt, acc_dt = evaluate_model(bagging_dt, X_dev, y_dev, \"Bagging Decision Tree\")",
   "id": "541cd610fdb0938",
   "outputs": [
    {
     "name": "stdout",
     "output_type": "stream",
     "text": [
      "Bagging Decision Tree Accuracy: 0.7165\n",
      "Bagging Decision Tree Classification Report:\n",
      "              precision    recall  f1-score   support\n",
      "\n",
      "           0       0.65      0.56      0.60       844\n",
      "           1       0.75      0.81      0.78      1382\n",
      "\n",
      "    accuracy                           0.72      2226\n",
      "   macro avg       0.70      0.69      0.69      2226\n",
      "weighted avg       0.71      0.72      0.71      2226\n",
      "\n"
     ]
    }
   ],
   "execution_count": 7
  },
  {
   "metadata": {
    "ExecuteTime": {
     "end_time": "2025-04-07T20:30:29.524410Z",
     "start_time": "2025-04-07T20:30:24.658751Z"
    }
   },
   "cell_type": "code",
   "source": "pred_svc, acc_svc = evaluate_model(bagging_svc, X_dev, y_dev, \"Bagging SVC\")",
   "id": "42ffc88f4a3697a2",
   "outputs": [
    {
     "name": "stdout",
     "output_type": "stream",
     "text": [
      "Bagging SVC Accuracy: 0.7457\n",
      "Bagging SVC Classification Report:\n",
      "              precision    recall  f1-score   support\n",
      "\n",
      "           0       0.69      0.60      0.64       844\n",
      "           1       0.77      0.84      0.80      1382\n",
      "\n",
      "    accuracy                           0.75      2226\n",
      "   macro avg       0.73      0.72      0.72      2226\n",
      "weighted avg       0.74      0.75      0.74      2226\n",
      "\n"
     ]
    }
   ],
   "execution_count": 9
  },
  {
   "metadata": {
    "ExecuteTime": {
     "end_time": "2025-04-07T20:30:29.545638Z",
     "start_time": "2025-04-07T20:30:29.536162Z"
    }
   },
   "cell_type": "code",
   "source": [
    "# Combine predictions from all five bagging models using majority voting\n",
    "all_preds = np.vstack((pred_logreg, pred_nb, pred_dt, pred_svc)).T  # shape: (n_samples, 5)\n",
    "\n",
    "def majority_vote(preds):\n",
    "    # Use np.bincount to find the majority vote for each sample\n",
    "    return np.array([np.bincount(row).argmax() for row in preds])\n",
    "\n",
    "ensemble_preds = majority_vote(all_preds)\n",
    "ensemble_acc = accuracy_score(y_dev, ensemble_preds)\n",
    "print(\"Ensemble Bagging Accuracy on Dev Set:\", ensemble_acc)\n",
    "print(\"Ensemble Classification Report:\")\n",
    "print(classification_report(y_dev, ensemble_preds, zero_division=1))"
   ],
   "id": "c448333f25fc0de5",
   "outputs": [
    {
     "name": "stdout",
     "output_type": "stream",
     "text": [
      "Ensemble Bagging Accuracy on Dev Set: 0.7497753818508536\n",
      "Ensemble Classification Report:\n",
      "              precision    recall  f1-score   support\n",
      "\n",
      "           0       0.70      0.60      0.65       844\n",
      "           1       0.78      0.84      0.81      1382\n",
      "\n",
      "    accuracy                           0.75      2226\n",
      "   macro avg       0.74      0.72      0.73      2226\n",
      "weighted avg       0.75      0.75      0.75      2226\n",
      "\n"
     ]
    }
   ],
   "execution_count": 10
  },
  {
   "metadata": {
    "ExecuteTime": {
     "end_time": "2025-04-07T20:30:29.693925Z",
     "start_time": "2025-04-07T20:30:29.555392Z"
    }
   },
   "cell_type": "code",
   "source": [
    "# Collect individual model accuracies\n",
    "model_names = [\"Bagging LogReg\", \"Bagging NB\", \"Bagging DT\", \"Bagging SVC\", \"Ensemble\"]\n",
    "accuracies = [acc_logreg, acc_nb, acc_dt, acc_svc, ensemble_acc]\n",
    "\n",
    "plt.figure(figsize=(10, 6))\n",
    "plt.bar(model_names, accuracies, color=[\"blue\", \"green\", \"red\", \"orange\", \"gray\"])\n",
    "plt.xlabel(\"Model\")\n",
    "plt.ylabel(\"Dev Set Accuracy\")\n",
    "plt.title(\"Bagging Models and Ensemble Accuracy Comparison\")\n",
    "plt.ylim(0, 1)\n",
    "plt.tight_layout()\n",
    "plt.show()"
   ],
   "id": "dbb423d56b05e8b1",
   "outputs": [
    {
     "data": {
      "text/plain": [
       "<Figure size 1000x600 with 1 Axes>"
      ],
      "image/png": "[encoded data removed]"
     },
     "metadata": {},
     "output_type": "display_data"
    }
   ],
   "execution_count": 11
  },
  {
   "metadata": {
    "ExecuteTime": {
     "end_time": "2025-04-07T20:30:29.724351Z",
     "start_time": "2025-04-07T20:30:29.714003Z"
    }
   },
   "cell_type": "code",
   "source": [
    "import pickle\n",
    "\n",
    "# Combine all bagging models into a dictionary\n",
    "bagging_models = {\n",
    "    \"logreg\": bagging_logreg,\n",
    "    \"nb\": bagging_nb,\n",
    "    \"dt\": bagging_dt,\n",
    "    # \"knn\": bagging_knn,\n",
    "    \"svc\": bagging_svc\n",
    "}\n",
    "\n",
    "# Save the dictionary as a single pickle file\n",
    "with open(\"final_bagging_models.pkl\", \"wb\") as f:\n",
    "    pickle.dump(bagging_models, f)\n",
    "\n",
    "print(\"All bagging models have been saved together in 'final_bagging_models.pkl'.\")"
   ],
   "id": "ac32f8b50beb2222",
   "outputs": [
    {
     "name": "stdout",
     "output_type": "stream",
     "text": [
      "All bagging models have been saved together in 'final_bagging_models.pkl'.\n"
     ]
    }
   ],
   "execution_count": 12
  },
  {
   "metadata": {
    "ExecuteTime": {
     "end_time": "2025-04-07T20:30:29.751771Z",
     "start_time": "2025-04-07T20:30:29.750198Z"
    }
   },
   "cell_type": "code",
   "source": "",
   "id": "1ec5e3b1003924af",
   "outputs": [],
   "execution_count": null
  }
 ],
 "metadata": {
  "kernelspec": {
   "display_name": "Python 3",
   "language": "python",
   "name": "python3"
  },
  "language_info": {
   "codemirror_mode": {
    "name": "ipython",
    "version": 2
   },
   "file_extension": ".py",
   "mimetype": "text/x-python",
   "name": "python",
   "nbconvert_exporter": "python",
   "pygments_lexer": "ipython2",
   "version": "2.7.6"
  }
 },
 "nbformat": 4,
 "nbformat_minor": 5
}
